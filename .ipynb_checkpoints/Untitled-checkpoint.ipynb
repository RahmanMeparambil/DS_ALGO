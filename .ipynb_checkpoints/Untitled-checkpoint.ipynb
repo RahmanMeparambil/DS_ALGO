{
 "cells": [
  {
   "cell_type": "markdown",
   "id": "9bd3be44-74d9-4941-a6aa-7028094040de",
   "metadata": {},
   "source": [
    "#  Introduction to Python"
   ]
  },
  {
   "cell_type": "markdown",
   "id": "d68fd738-4e53-47d3-b66a-162e687c155d",
   "metadata": {},
   "source": [
    "``` E-1.1  Write a program to prompt a user to enter his/her name and mailing address and display the entered information on the screen```"
   ]
  },
  {
   "cell_type": "code",
   "execution_count": 1,
   "id": "d17d8911-062f-4a58-bf3c-4cee29bc22b1",
   "metadata": {},
   "outputs": [
    {
     "name": "stdin",
     "output_type": "stream",
     "text": [
      "Enter name :  rahman\n",
      "Enter mail :  r@gmail.com\n"
     ]
    },
    {
     "name": "stdout",
     "output_type": "stream",
     "text": [
      "rahman r@gmail.com\n"
     ]
    }
   ],
   "source": [
    "name = input('Enter name : ')\n",
    "mail = input('Enter mail : ')\n",
    "print(name,mail)"
   ]
  },
  {
   "cell_type": "markdown",
   "id": "4bcc4560-75d4-4663-803f-4018b9e74d71",
   "metadata": {},
   "source": [
    "`E-1.2  Write a program to compute the area of different shapes and display the information on the screen`"
   ]
  },
  {
   "cell_type": "code",
   "execution_count": 78,
   "id": "d1f78e5c-1448-44fe-b498-88174f63bb2b",
   "metadata": {},
   "outputs": [],
   "source": [
    "class shape:\n",
    "    def __init__(self,name,n):\n",
    "        self.name = name\n",
    "        self.edges = n\n",
    "    def area(self):\n",
    "        raise NotImplementedError('Subclass implements this method')\n",
    "\n",
    "class rectangle(shape):\n",
    "    def __init__(self,length,width):\n",
    "        super().__init__('Rectangle',4)\n",
    "        self.length = length\n",
    "        self.width = width\n",
    "    def area(self):\n",
    "        return self.length*self.width\n",
    "\n",
    "class circle(shape):\n",
    "    def __init__(self,radius):\n",
    "        super().__init__('circle',1)\n",
    "        self.radius = radius\n",
    "    def area(self):\n",
    "        return self.radius*self.radius\n",
    "        "
   ]
  },
  {
   "cell_type": "code",
   "execution_count": 81,
   "id": "dcab36c3-d939-47cb-b955-e5bb4bb5ebd4",
   "metadata": {},
   "outputs": [
    {
     "data": {
      "text/plain": [
       "4.840000000000001"
      ]
     },
     "execution_count": 81,
     "metadata": {},
     "output_type": "execute_result"
    }
   ],
   "source": [
    "rectangle(3,4).area()\n",
    "circle(2.2).area()"
   ]
  },
  {
   "cell_type": "markdown",
   "id": "0ac95bfd-cc7b-4b65-b21c-cd533dd329a8",
   "metadata": {},
   "source": [
    "`E-1.3  write a program to compute the factorial of a given number and display the result on the screen`"
   ]
  },
  {
   "cell_type": "code",
   "execution_count": 111,
   "id": "cdc7c523-d6a4-413f-a683-720e79e501d7",
   "metadata": {},
   "outputs": [],
   "source": [
    "def fact(n):\n",
    "    assert n >= 0,'No Factorial !!'\n",
    "    if n<=1 :\n",
    "        return 1\n",
    "    return n*fact(n-1)"
   ]
  },
  {
   "cell_type": "code",
   "execution_count": 113,
   "id": "ad053b55-d22d-4e6b-b2f2-06c09d9e11b4",
   "metadata": {},
   "outputs": [
    {
     "data": {
      "text/plain": [
       "2"
      ]
     },
     "execution_count": 113,
     "metadata": {},
     "output_type": "execute_result"
    }
   ],
   "source": [
    "fact(2)"
   ]
  },
  {
   "cell_type": "markdown",
   "id": "d2d2ca7d-ac93-4b02-9b36-70000420d1ff",
   "metadata": {},
   "source": [
    "`E-1.4  write a program to check if a given number is prime and display the result on the screen`"
   ]
  },
  {
   "cell_type": "code",
   "execution_count": 127,
   "id": "1f500291-2b5f-4617-ab78-4693d74c69f2",
   "metadata": {},
   "outputs": [
    {
     "data": {
      "text/plain": [
       "False"
      ]
     },
     "execution_count": 127,
     "metadata": {},
     "output_type": "execute_result"
    }
   ],
   "source": [
    "def isPrime(n):\n",
    "    if n>1:\n",
    "        for i in range(2,n):\n",
    "            if n%i == 0:\n",
    "                return False\n",
    "        return True\n",
    "isPrime(10)"
   ]
  },
  {
   "cell_type": "markdown",
   "id": "ebb6579d-aeb7-41b0-92b3-d89580c0c807",
   "metadata": {},
   "source": [
    "`E-1.5 Write a program to find the GCD of two numbers`"
   ]
  },
  {
   "cell_type": "code",
   "execution_count": 171,
   "id": "f30b5b05-32e0-40c7-a1b7-8c20c03d0646",
   "metadata": {},
   "outputs": [],
   "source": [
    "x,y = 4,70\n",
    "\n",
    "def gcd(x,y):\n",
    "        def find(smaller,greater) :\n",
    "        for i in range(greater,1,-1):\n",
    "            if i%smaller == 0:\n",
    "                return i\n",
    "    if x == min(x,y):\n",
    "        return find(x,y)\n",
    "    else:\n",
    "        return find(y,x)\n",
    "\n"
   ]
  },
  {
   "cell_type": "code",
   "execution_count": 170,
   "id": "ebc770ab-c37d-4e2d-985a-bbb79f4f8851",
   "metadata": {},
   "outputs": [
    {
     "ename": "UnboundLocalError",
     "evalue": "local variable 'find' referenced before assignment",
     "output_type": "error",
     "traceback": [
      "\u001b[0;31m---------------------------------------------------------------------------\u001b[0m",
      "\u001b[0;31mUnboundLocalError\u001b[0m                         Traceback (most recent call last)",
      "Cell \u001b[0;32mIn[170], line 1\u001b[0m\n\u001b[0;32m----> 1\u001b[0m \u001b[43mgcd\u001b[49m\u001b[43m(\u001b[49m\u001b[43mx\u001b[49m\u001b[43m,\u001b[49m\u001b[43my\u001b[49m\u001b[43m)\u001b[49m\n",
      "Cell \u001b[0;32mIn[169], line 5\u001b[0m, in \u001b[0;36mgcd\u001b[0;34m(x, y)\u001b[0m\n\u001b[1;32m      3\u001b[0m \u001b[38;5;28;01mdef\u001b[39;00m \u001b[38;5;21mgcd\u001b[39m(x,y):\n\u001b[1;32m      4\u001b[0m     \u001b[38;5;28;01mif\u001b[39;00m x \u001b[38;5;241m==\u001b[39m \u001b[38;5;28mmin\u001b[39m(x,y):\n\u001b[0;32m----> 5\u001b[0m         \u001b[38;5;28;01mreturn\u001b[39;00m \u001b[43mfind\u001b[49m(x,y)\n\u001b[1;32m      6\u001b[0m     \u001b[38;5;28;01melse\u001b[39;00m:\n\u001b[1;32m      7\u001b[0m         \u001b[38;5;28;01mreturn\u001b[39;00m find(y,x)\n",
      "\u001b[0;31mUnboundLocalError\u001b[0m: local variable 'find' referenced before assignment"
     ]
    }
   ],
   "source": [
    "gcd(x,y)"
   ]
  }
 ],
 "metadata": {
  "kernelspec": {
   "display_name": "Python 3 (ipykernel)",
   "language": "python",
   "name": "python3"
  },
  "language_info": {
   "codemirror_mode": {
    "name": "ipython",
    "version": 3
   },
   "file_extension": ".py",
   "mimetype": "text/x-python",
   "name": "python",
   "nbconvert_exporter": "python",
   "pygments_lexer": "ipython3",
   "version": "3.9.2"
  }
 },
 "nbformat": 4,
 "nbformat_minor": 5
}

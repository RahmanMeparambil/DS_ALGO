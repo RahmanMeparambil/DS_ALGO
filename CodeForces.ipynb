{
 "cells": [
  {
   "cell_type": "markdown",
   "id": "f215d16a",
   "metadata": {},
   "source": [
    "### P1"
   ]
  },
  {
   "cell_type": "markdown",
   "id": "fbcb0bd4",
   "metadata": {},
   "source": [
    "    Kirill lives on a connected undirected graph of n vertices and m edges at vertex 1. One fine evening he gathered f friends, the i-th friend lives at the vertex hi. So all friends are now in the vertex 1, the i-th friend must get to his home to the vertex hi.\n",
    "\n",
    "    The evening is about to end and it is time to leave. It turned out that k(k≤6) of his friends have no cars, and they would have to walk if no one gives them a ride. One friend with a car can give a ride to any number of friends without cars, but only if he can give them a ride by driving along one of the shortest paths to his house.\n",
    "\n",
    "    For example, in the graph below, a friend from vertex hi=5\n",
    "    can give a ride to friends from the following sets of vertices: [2,3], [2,4], [2], [3], [4], but can't give a ride to friend from vertex 6 or a set [3,4]\n",
    "    Kirill wants as few friends as possible to have to walk. Help him find the minimum possible number.\n",
    "\n",
    "    \n",
    "   \n",
    "       Input\n",
    "\n",
    "    The first line of input data contains an integer t\n",
    "   (1≤t≤ $10^3$) —\n",
    "   \n",
    "    the number of test cases in the test.\n",
    "\n",
    "    The first line of the test case contains two integers n\n",
    "    and m \n",
    "   (2≤n≤$10^4$, n−1≤m≤min($10^4$,n⋅(n−1)2)) —\n",
    "   \n",
    "    the number of vertices and edges, respectively.\n",
    "\n",
    "    The next m\n",
    "    lines of the test case contain a description of the edges, two integers each u and v (1≤u,v≤n, u≠v) — indexes of vertices connected by an edge. It is guaranteed that there is at most one edge between any pair of vertices (i.e. no multiple edges in the graph).\n",
    "\n",
    "    Then follows line containing the number f\n",
    "   (1≤f≤$10^4$) \n",
    "    \n",
    "    — the number of Kirill's friends.\n",
    "\n",
    "    The next line of the test case contains f\n",
    "    integers: h1,h2,…,hf (2≤hi≤n) — the vertices in which they live. Some vertices may be repeated.\n",
    "\n",
    "    The next line of the set contains the number k\n",
    "    (1≤k≤min(6,f)) — the number of friends without cars.\n",
    "\n",
    "    The last line of each test case contains k\n",
    "    integers: p1,p2,…,pk (1≤pi≤f, pi<pi+1) — indexes of friends without cars.\n",
    "\n",
    "    It is guaranteed that the sum of n\n",
    "    over all cases does not exceed \n",
    "  $10^4$\n",
    "    \n",
    "    as well as the sums of m and f\n",
    "\n",
    "    .\n",
    "    Output\n",
    "\n",
    "    Output t\n",
    "    lines, each of which contains the answer to the corresponding test case. As an answer, output a single integer — the minimum possible number of friends who will have to walk.\n"
   ]
  },
  {
   "cell_type": "markdown",
   "id": "a2e2d35e",
   "metadata": {},
   "source": [
    "https://espresso.codeforces.com/36c8782d165c07fe49a422331a46da8fb44280b5.png"
   ]
  },
  {
   "cell_type": "markdown",
   "id": "ea6d92cd",
   "metadata": {},
   "source": [
    "### Step 1"
   ]
  },
  {
   "cell_type": "markdown",
   "id": "6ab1efe6",
   "metadata": {},
   "source": [
    "#### Define the problem :\n",
    "\n",
    "    find the shortest path from one node to other .\n",
    "    \n",
    "#### Input :\n",
    "    n , m -  the number of vertices and edges, respectively.\n",
    "    (u,v) -  a description of the edges\n",
    "    f     -  the number of Kirill's friends.\n",
    "    h1,h2,…,hf -  the vertices in which they live.\n",
    "    k (1≤k≤min(6,f)) — the number of friends without cars.\n",
    "    p1,p2,…,pk (1≤pi≤f, pi<pi+1) — indexes of friends without cars.\n",
    "    \n",
    "#### Output :\n",
    "    output a single integer — the minimum possible number of friends who will have to walk."
   ]
  },
  {
   "cell_type": "markdown",
   "id": "4b68f2ca",
   "metadata": {},
   "source": [
    "### Step 2"
   ]
  },
  {
   "cell_type": "code",
   "execution_count": 4,
   "id": "ef5b0af8",
   "metadata": {},
   "outputs": [],
   "source": [
    "t0 = {'input':{'n':6,'m':7,'edges':[(1,2),(2,3),(2,4),(3,5),(4,5),(3,6),(6,5)],'f':5,'h':[2 ,3 ,4 ,5 ,6 ],'k':4,'p':[2,3,4,5,6]}}\n",
    "t1 = {'input':{'n':6,'m':7,'edges':[(1,2),(2,3),(2,4),(3,5),(4,5),(3,6),(6,5)],'f':5,'h':[2 ,3 ,4 ,5 ,6 ,5], 'k':4 ,'p':[2,3,4,5,6]}}\n",
    "t2 = {'input':{'n':4, 'm':4, 'edges':[(1,2),(1,3),(2,3),(3,4)], 'f':3, 'h':[3,4,2], 'k':2, 'p':[1,3]}}\n",
    "t3 = {'input':{'n':2, 'm':1, 'edges':[(1,2)], 'f':3, 'h':[2,2,2], 'k':3, 'p':[1,2,3]}}\n",
    "t4 = {'input':{'n':3, 'm':3, 'edges':[(1,2),(1,3),(2,3)], 'f':4, 'h':[2,2,2,3], 'k':3, 'p':[1,2,4]}}\n",
    "t5 = {'input':{'n':4, 'm':4, 'edges':[(3,1),(3,2),(1,4),(2,4)], 'f':5, 'h':[3,2,2,4,2], 'k':3, 'p':[1,3,4]}}"
   ]
  },
  {
   "cell_type": "markdown",
   "id": "999474e9",
   "metadata": {},
   "source": [
    "### Step 3"
   ]
  },
  {
   "cell_type": "markdown",
   "id": "45ce888f",
   "metadata": {},
   "source": [
    "    path(n, m, edges, f, h, k, p):\n",
    "        1. get the root = 1\n",
    "        2. get the minimum path from that root to target\n",
    "        3. starting from the root go through each node to the target . \n",
    "        4, return the minimum path distance . "
   ]
  },
  {
   "cell_type": "markdown",
   "id": "b741880b",
   "metadata": {},
   "source": [
    "### Step 4"
   ]
  },
  {
   "cell_type": "code",
   "execution_count": 11,
   "id": "055c6988",
   "metadata": {},
   "outputs": [
    {
     "data": {
      "text/plain": [
       "Edges : 7 \n",
       "Adjecents : [[], [2], [1, 3, 4], [2, 5, 6], [2, 5], [3, 4, 6], [3, 5]]"
      ]
     },
     "execution_count": 11,
     "metadata": {},
     "output_type": "execute_result"
    }
   ],
   "source": [
    "class Graph:\n",
    "    def __init__(self,n_nodes,edges):\n",
    "        self.n_nodes = n_nodes\n",
    "        self.edges = edges\n",
    "        self.data = [[] for i in range(n_nodes)]\n",
    "        for i,j in edges :\n",
    "            self.data[i].append(j)\n",
    "            self.data[j].append(i) \n",
    "        \n",
    "    def __repr__(self):\n",
    "        return f'Edges : {self.n_nodes} \\nAdjecents : {self.data}'\n",
    "    \n",
    "g1  = Graph(t0['input']['m'],t0['input']['edges'])\n",
    "g1"
   ]
  },
  {
   "cell_type": "code",
   "execution_count": 28,
   "id": "d7a7d7db",
   "metadata": {},
   "outputs": [
    {
     "name": "stdout",
     "output_type": "stream",
     "text": [
      "[False, True, False, False, False, False, False]\n",
      "[inf, 1, inf, inf, inf, inf, inf]\n",
      "[None, None, None, None, None, None, None]\n",
      "[1]\n"
     ]
    },
    {
     "data": {
      "text/plain": [
       "inf"
      ]
     },
     "execution_count": 28,
     "metadata": {},
     "output_type": "execute_result"
    }
   ],
   "source": [
    "def find_shortest_path(graph, source , target) :\n",
    "    visited = [False] * len(graph.data)\n",
    "    distance = [float('inf')]*len(graph.data)\n",
    "    parent = [None]*len(graph.data)\n",
    "    queue = []\n",
    "    distance[source] = 0\n",
    "    current = source\n",
    "    queue.append(current)\n",
    "    idx = 0\n",
    "    while idx<len(queue) and not visited[target]: \n",
    "        current = queue[idx]\n",
    "        visited[current] = True\n",
    "        idx+=1\n",
    "        update_distances(graph,current,distance)\n",
    "        print(visited)\n",
    "        print(distance)\n",
    "        print(parent)\n",
    "        print(queue)\n",
    "        next_node = pick_next_node(distance,visited)\n",
    "        if next_node:\n",
    "            queue.append(next_node)\n",
    "            print(queue)\n",
    "    return distance[target]\n",
    "\n",
    "def update_distances(graph,current,distance,parent=None):\n",
    "    neighbours = graph.data[current]\n",
    "    for  node in (neighbours):\n",
    "        if distance[current] < distance[node] :\n",
    "            distance[current] +=1\n",
    "\n",
    "            if parent:\n",
    "                parent[node] = current\n",
    "                \n",
    "def pick_next_node(distance,visited):\n",
    "    min_distance = float('inf')\n",
    "    min_node = None\n",
    "    for node in range(len(distance)):\n",
    "        if not visited[node] and distance[node] < min_distance:\n",
    "            min_node = node\n",
    "            min_distance = distance[node]\n",
    "    return min_node\n",
    "        \n",
    "    \n",
    "    \n",
    "    \n",
    "find_shortest_path(g1 , 1 , 5)"
   ]
  }
 ],
 "metadata": {
  "kernelspec": {
   "display_name": "Python 3 (ipykernel)",
   "language": "python",
   "name": "python3"
  },
  "language_info": {
   "codemirror_mode": {
    "name": "ipython",
    "version": 3
   },
   "file_extension": ".py",
   "mimetype": "text/x-python",
   "name": "python",
   "nbconvert_exporter": "python",
   "pygments_lexer": "ipython3",
   "version": "3.9.7"
  }
 },
 "nbformat": 4,
 "nbformat_minor": 5
}

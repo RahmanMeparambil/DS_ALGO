{
 "cells": [
  {
   "cell_type": "markdown",
   "id": "dbd49765-2de4-4a06-a06b-09a28d3e7adf",
   "metadata": {},
   "source": [
    "# P1"
   ]
  },
  {
   "cell_type": "markdown",
   "id": "f438d9b1-6858-4451-a289-a33a9c3db357",
   "metadata": {},
   "source": [
    "    You are given two non-empty linked lists representing two non-negative integers. The digits are stored in reverse order, and each of their nodes contains a single digit. Add the two numbers and return the sum as a linked list.\n",
    "\n",
    "    You may assume the two numbers do not contain any leading zero, except the number 0 itself."
   ]
  },
  {
   "cell_type": "markdown",
   "id": "2f9983e9-385c-40d3-821c-21c9d39caa26",
   "metadata": {},
   "source": [
    "<img alt=\"\" src=\"https://assets.leetcode.com/uploads/2020/10/02/addtwonumber1.jpg\" style=\"width: 483px; height: 342px;\">\n"
   ]
  },
  {
   "cell_type": "markdown",
   "id": "ba229332-14d5-46ec-8c90-84e7d1cecba8",
   "metadata": {},
   "source": [
    "    Input: l1 = [2,4,3], l2 = [5,6,4]\n",
    "    Output: [7,0,8]\n",
    "    Explanation: 342 + 465 = 807."
   ]
  },
  {
   "cell_type": "code",
   "execution_count": 1,
   "id": "2b98231a",
   "metadata": {},
   "outputs": [],
   "source": [
    "from typing import Optional\n",
    "class ListNode:\n",
    "    def __init__(self, val=0, next=None):\n",
    "        self.val = val\n",
    "        self.next = next\n",
    "class Solution:\n",
    "    def addTwoNumbers(self, l1: Optional[ListNode], l2: Optional[ListNode]) -> Optional[ListNode]: \n",
    "        res = ListNode()\n",
    "        v1 = int(self.get_value(l1))\n",
    "        v2 = int(self.get_value(l2))\n",
    "        s = list(str(v1+v2))\n",
    "        res = self.list_node(s)\n",
    "        return res\n",
    "                \n",
    "    def display(self,l1: Optional[ListNode]):\n",
    "        idx = 0\n",
    "        while l1 != None:\n",
    "            print(f'idx{idx} : {l1.val}')\n",
    "            idx+=1\n",
    "            l1 = l1.next\n",
    "            \n",
    "    def get_value(self,l):\n",
    "        res = ''\n",
    "        while l!= None:\n",
    "            res+=str(l.val)\n",
    "            l = l.next\n",
    "        return int(res[::-1])\n",
    "        \n",
    "    def list_node(self,lis_):\n",
    "        root = ListNode(lis_.pop())\n",
    "        node = root\n",
    "        while lis_:\n",
    "            node.next = ListNode(lis_.pop())\n",
    "            node = node.next\n",
    "        return root\n",
    "            \n",
    "        \n",
    "            \n"
   ]
  },
  {
   "cell_type": "code",
   "execution_count": 2,
   "id": "7163d1f6",
   "metadata": {},
   "outputs": [],
   "source": [
    "a0=ListNode(2)\n",
    "b=ListNode(4)\n",
    "c=ListNode(3)\n",
    "a0.next=b\n",
    "b.next=c"
   ]
  },
  {
   "cell_type": "code",
   "execution_count": 3,
   "id": "93c6b338",
   "metadata": {},
   "outputs": [],
   "source": [
    "a1=ListNode(5)\n",
    "b=ListNode(6)\n",
    "c=ListNode(4)\n",
    "a1.next=b\n",
    "b.next=c"
   ]
  },
  {
   "cell_type": "code",
   "execution_count": 4,
   "id": "d40c785d",
   "metadata": {},
   "outputs": [
    {
     "name": "stdout",
     "output_type": "stream",
     "text": [
      "idx0 : 7\n",
      "idx1 : 0\n",
      "idx2 : 8\n"
     ]
    }
   ],
   "source": [
    "sol = Solution().addTwoNumbers(a0,a1)\n",
    "Solution().display(sol)"
   ]
  },
  {
   "cell_type": "code",
   "execution_count": 5,
   "id": "a4529371",
   "metadata": {},
   "outputs": [
    {
     "name": "stdout",
     "output_type": "stream",
     "text": [
      "idx0 : 8\n",
      "idx1 : 9\n",
      "idx2 : 9\n",
      "idx3 : 9\n",
      "idx4 : 0\n",
      "idx5 : 0\n",
      "idx6 : 0\n",
      "idx7 : 1\n"
     ]
    }
   ],
   "source": [
    "a0 = Solution().list_node(lis_=[9,9,9,9,9,9,9])\n",
    "a1 = Solution().list_node([9,9,9,9])\n",
    "s = Solution()\n",
    "sol = Solution().addTwoNumbers(a0,a1)\n",
    "Solution().display(sol)"
   ]
  },
  {
   "cell_type": "markdown",
   "id": "967e6041",
   "metadata": {},
   "source": [
    "# P2"
   ]
  },
  {
   "cell_type": "markdown",
   "id": "9e44005d",
   "metadata": {},
   "source": [
    "    Given an integer array nums, return all the triplets [nums[i], nums[j], nums[k]] such that i != j, i != k, and j != k, and nums[i] + nums[j] + nums[k] == 0.\n",
    "\n",
    "    Notice that the solution set must not contain duplicate triplets."
   ]
  },
  {
   "cell_type": "markdown",
   "id": "c00e660a",
   "metadata": {},
   "source": [
    "### Define Problem "
   ]
  },
  {
   "cell_type": "markdown",
   "id": "ad750555",
   "metadata": {},
   "source": [
    "\n",
    "    Problem :   Find all the three elements inside a list that leads to zero on addition .\n",
    "\n",
    "    Input   :  A List of elements that contains atleast 3 values\n",
    "\n",
    "    Output  :  A distinct list of lists that contain three elements leading to zero .\n"
   ]
  },
  {
   "cell_type": "markdown",
   "id": "103e3ef2",
   "metadata": {},
   "source": [
    "### Example Inputs and Outputs"
   ]
  },
  {
   "cell_type": "code",
   "execution_count": 6,
   "id": "44179247",
   "metadata": {},
   "outputs": [],
   "source": [
    "t0 = {'input':[-1,0,1,2,-1,-4],'output':[[-1,-1,2],[-1,0,1]]}\n",
    "t1 = {'input':[0,1,1],'output':[]}\n",
    "t2 = {'input':[0,0,0],'output':[[0,0,0]]}\n",
    "\n",
    "tests = [t0,t1,t2]"
   ]
  },
  {
   "cell_type": "markdown",
   "id": "de34299f",
   "metadata": {},
   "source": [
    "### Solution for the problem"
   ]
  },
  {
   "cell_type": "markdown",
   "id": "9c86feac",
   "metadata": {},
   "source": [
    "    1 .  init three pointers i,j,k =0,0,0\n",
    "\n",
    "    2 .  loop until i reaches the 3rd last index:\n",
    "          if j reaches 2nd last index :\n",
    "              i+=1\n",
    "              j=j+1\n",
    "              k=j+1\n",
    "              continue\n",
    "          elif k reaches last index :\n",
    "              j++\n",
    "              k = j+1\n",
    "          if 3sum == 0 :\n",
    "              make a list in which thier elements are sorted\n",
    "              if the list not in result :\n",
    "                    append newList\n",
    "                 "
   ]
  },
  {
   "cell_type": "markdown",
   "id": "cd74cb75",
   "metadata": {},
   "source": [
    "### Implement The Solution"
   ]
  },
  {
   "cell_type": "code",
   "execution_count": 7,
   "id": "8777fa74",
   "metadata": {
    "scrolled": true
   },
   "outputs": [],
   "source": [
    "from typing import List\n",
    "class Solution:\n",
    "    def threeSum(self, nums: List[int]) -> List[List[int]]:\n",
    "        res = []\n",
    "        nums = sorted(nums)\n",
    "        i = 0 \n",
    "        j = 1\n",
    "        while i != len(nums)-2:\n",
    "            \n",
    "            if j == len(nums)-1:\n",
    "                i += 1\n",
    "                j = i+1\n",
    "            for k in range(j+1,len(nums)):\n",
    "#                 print(f'i : {nums[i]} j:{nums[j]} k:{nums[k]}')\n",
    "                if nums[i]+nums[j]+nums[k] == 0:\n",
    "                    l = sorted([nums[i],nums[j],nums[k]])\n",
    "                    if l not in res:\n",
    "                        res.append(l)\n",
    "            j+=1\n",
    "                \n",
    "        return res"
   ]
  },
  {
   "cell_type": "code",
   "execution_count": 8,
   "id": "3d995a19",
   "metadata": {},
   "outputs": [
    {
     "name": "stdout",
     "output_type": "stream",
     "text": [
      "True\n",
      "True\n",
      "True\n"
     ]
    }
   ],
   "source": [
    "for t in tests:\n",
    "    print(Solution().threeSum(t['input']) == t['output'])"
   ]
  },
  {
   "cell_type": "markdown",
   "id": "8758fdc0",
   "metadata": {},
   "source": [
    "### Analyze the complexity"
   ]
  },
  {
   "cell_type": "markdown",
   "id": "2084f13f",
   "metadata": {},
   "source": [
    "`Best Case Complexity  : $n^3$`"
   ]
  },
  {
   "cell_type": "markdown",
   "id": "8a2e69b4",
   "metadata": {},
   "source": [
    "### Implement a better solutions"
   ]
  },
  {
   "cell_type": "markdown",
   "id": "5df0e605",
   "metadata": {},
   "source": [
    "### ALGO\n",
    "    0.  sort the list\n",
    "    1.  create 3 pointers i=0 , j=i+1, k = len(list)\n",
    "    2.  \n",
    "    for ( i = 0,i <= len(nums)-2;i++)\n",
    "    \n",
    "    {\n",
    "    \n",
    "        j = i+1\n",
    "        k = len(list)\n",
    "        while j < k:\n",
    "        {\n",
    "            if nums[i] != nums[i+1] :\n",
    "             {\n",
    "                i ++\n",
    "                break\n",
    "             }\n",
    "             elif nums[j] != nums[j+1]:\n",
    "             {\n",
    "                j++\n",
    "                continue\n",
    "             }   \n",
    "            sum = nums[i] +nums[j]+nums[k]\n",
    "            if sum == 0 :\n",
    "              {\n",
    "                  append to res\n",
    "                  k --;\n",
    "               }\n",
    "             elif sum > 0:\n",
    "               {\n",
    "                  k--\n",
    "                }\n",
    "              else\n",
    "              {  \n",
    "                  j++;\n",
    "               }\n",
    "            }\n",
    "       }\n",
    "         \n",
    "         \n",
    "         "
   ]
  },
  {
   "cell_type": "code",
   "execution_count": 9,
   "id": "d329b897",
   "metadata": {},
   "outputs": [],
   "source": [
    "from typing import List\n",
    "class Solution:\n",
    "    def __init__(self):\n",
    "        pass\n",
    "    def threeSum(self, nums: List[int]) -> List[List[int]]:\n",
    "        res = []\n",
    "        nums = sorted(nums)\n",
    "\n",
    "        for i in range(len(nums)-1) : # -----------(n)\n",
    "            if nums[i] == nums[i-1] != 0:\n",
    "                continue\n",
    "            j = i+1\n",
    "            k = len(nums)-1\n",
    "            while j < k: # -------------------------(n)\n",
    "                s = nums[i]+nums[j]+nums[k]\n",
    "                if s == 0 :\n",
    "                    el = [nums[i],nums[j],nums[k]]\n",
    "                    res.append(el)\n",
    "                    k-=1\n",
    "      \n",
    "                elif s > 0:\n",
    "                    k-=1\n",
    "    \n",
    "                else:\n",
    "                    j+=1\n",
    "                    if nums[j] == nums[j-1]:\n",
    "                        j+=1\n",
    "        return res\n",
    "        \n",
    "        "
   ]
  },
  {
   "cell_type": "code",
   "execution_count": 10,
   "id": "b98f7798",
   "metadata": {},
   "outputs": [
    {
     "name": "stdout",
     "output_type": "stream",
     "text": [
      "[[-1, -1, 2], [-1, 0, 1]]\n"
     ]
    }
   ],
   "source": [
    "print(Solution().threeSum([-1,0,1,2,-1,-4]))\n"
   ]
  },
  {
   "cell_type": "markdown",
   "id": "d27c4996",
   "metadata": {},
   "source": [
    "#### time Complexity : O(n$^2$)"
   ]
  },
  {
   "cell_type": "markdown",
   "id": "23be418e",
   "metadata": {},
   "source": [
    "# P3  "
   ]
  },
  {
   "cell_type": "markdown",
   "id": "9cca9e9b",
   "metadata": {},
   "source": [
    "## ThreeSum Closest"
   ]
  },
  {
   "cell_type": "markdown",
   "id": "eb058410",
   "metadata": {},
   "source": [
    "    Given an integer array nums of length n and an integer target, find three integers in nums such that the sum is closest to target.\n",
    "\n",
    "    Return the sum of the three integers.\n",
    " \n",
    "    You may assume that each input would have exactly one solution."
   ]
  },
  {
   "cell_type": "markdown",
   "id": "fe09d9b5",
   "metadata": {},
   "source": [
    "#### `Define the Problem and inputs`"
   ]
  },
  {
   "cell_type": "markdown",
   "id": "be1bf6bd",
   "metadata": {},
   "source": [
    "`Problem :  find the threesum , which is closest to the target .`\n",
    "\n",
    "`inputs  : A list of integers  ` \n",
    "\n",
    "`Output   : Sum of three values that is closest to target`\n",
    "\n",
    "`Examples`\n",
    "\n",
    "`A list of integers sums to the target`\n",
    "\n",
    "`A list of integers that are far away from the target`\n",
    "\n",
    "`A list containing three elements only`\n",
    "\n",
    "`A list containing all same values`\n",
    "\n",
    "`A list containing target values only `\n",
    "\n",
    "`\n"
   ]
  },
  {
   "cell_type": "code",
   "execution_count": 11,
   "id": "860fbc33",
   "metadata": {},
   "outputs": [],
   "source": [
    "# Example Inputs and Outputs\n",
    "t0 = {'input' : {'nums':[-1,2,1,-4],'target':1} ,'output':2} # ---- a unsorted list\n",
    "t1 = {'input' : {'nums':[0,0,0],'target':1} ,'output':0} # ---- sums zeros\n",
    "t2 = {'input' : {'nums':[1,1,1],'target':3} ,'output':3} # --- sums to target\n",
    "t3 = {'input' : {'nums':[100,200,200,10000],'target':1} ,'output':500} # -- far away\n",
    "t4 = {'input' : {'nums':[1,1,1],'target':1} ,'output':3} # --- all target values\n",
    "\n",
    "tests = [t0,t1,t2,t3,t4]"
   ]
  },
  {
   "cell_type": "markdown",
   "id": "4aa1c19b",
   "metadata": {},
   "source": [
    "### Algorithm"
   ]
  },
  {
   "cell_type": "markdown",
   "id": "596c95d1",
   "metadata": {},
   "source": [
    "    0. sort the list\n",
    "\n",
    "    1. current_min = infinity\n",
    "\n",
    "    2. loop through the list \n",
    " \n",
    "       if previous element is same and loop already started continue\n",
    "       while two pointer j<k:\n",
    "             sum = nums[i] + nums[j] + nums[k]\n",
    "             if abs(sum-target) < current_min :\n",
    "                 current_min = abs(sum-target)\n",
    "                 res = sum\n",
    "             if sum > target :\n",
    "                 j++\n",
    "             elif sum < target :\n",
    "                 k--\n",
    "             else:\n",
    "                 return sum\n",
    "      return res\n",
    "                 "
   ]
  },
  {
   "cell_type": "code",
   "execution_count": 12,
   "id": "da47c200",
   "metadata": {},
   "outputs": [],
   "source": [
    "from typing import List\n",
    "class Solution:\n",
    "    def threeSumClosest(self, nums: List[int], target: int) -> int:\n",
    "        nums = sorted( nums )\n",
    "        res = 0\n",
    "        current_min = float( 'inf' )\n",
    "        for i in range( len( nums )-2 ): # ---------n\n",
    "            j = i+1\n",
    "            k = len( nums )-1\n",
    "            while j < k : # ------------------------n*n\n",
    "                s = nums[i] + nums[j] + nums[k]\n",
    "                if abs( s-target ) < current_min :\n",
    "                    current_min = abs( s-target )\n",
    "                    res = s \n",
    "#                     k-=1  # ----------------- ERROR : skipped one of the value , positioning in the next line\n",
    "                if s < target:\n",
    "                    j +=1\n",
    "                elif s > target :\n",
    "                    k -=1\n",
    "                else:\n",
    "                    return s\n",
    "        return res"
   ]
  },
  {
   "cell_type": "code",
   "execution_count": 13,
   "id": "ec55e6de",
   "metadata": {},
   "outputs": [
    {
     "name": "stdout",
     "output_type": "stream",
     "text": [
      "True\n",
      "True\n",
      "True\n",
      "True\n",
      "True\n"
     ]
    }
   ],
   "source": [
    "for test in tests:\n",
    "    print(Solution().threeSumClosest(test['input']['nums'],test['input']['target']) == test['output'])"
   ]
  },
  {
   "cell_type": "markdown",
   "id": "04454524",
   "metadata": {},
   "source": [
    "`TIMECOMPLEXITY` : $O(n^2)$"
   ]
  },
  {
   "cell_type": "markdown",
   "id": "02bfb185-fb75-40a0-bbfa-e82e8c20000c",
   "metadata": {},
   "source": [
    "# P4"
   ]
  },
  {
   "cell_type": "markdown",
   "id": "abca05a6-a12c-4cc7-8eee-14c209463f0a",
   "metadata": {},
   "source": [
    "    Given a string s, rearrange the characters of s so that any two adjacent characters are not the same.Return any possible rearrangement of s or return \"\" if not possible."
   ]
  },
  {
   "cell_type": "code",
   "execution_count": 14,
   "id": "be02a063-ff29-49eb-9ce8-6869799e605c",
   "metadata": {},
   "outputs": [],
   "source": [
    "import heapq\n",
    "class Solution:\n",
    "    def reorganizeString(self, s: str) -> str:\n",
    "        s = {x:s.count(x) for x in s}\n",
    "        print(s.items())\n",
    "        max_heap = [[-cnt,char] for char,cnt in s.items()]\n",
    "        heapq.heapify(max_heap)\n",
    "        \n",
    "        res = \"\"\n",
    "        prev = None\n",
    "        while prev or max_heap:\n",
    "            if prev and not max_heap:\n",
    "                return \"\"\n",
    "            cnt , char = heapq.heappop(max_heap)\n",
    "            res+=char\n",
    "            cnt+=1\n",
    "            if prev:\n",
    "                heapq.heappush(max_heap,prev)\n",
    "                prev = None\n",
    "            if cnt!= 0:\n",
    "                prev = [cnt,char]\n",
    "        return res\n",
    "            \n",
    "                "
   ]
  },
  {
   "cell_type": "code",
   "execution_count": 15,
   "id": "4e88576b-2c78-4010-9c5f-13cf0f5b4658",
   "metadata": {},
   "outputs": [
    {
     "name": "stdout",
     "output_type": "stream",
     "text": [
      "dict_items([('v', 3), ('l', 1), ('o', 1)])\n"
     ]
    },
    {
     "data": {
      "text/plain": [
       "'vlvov'"
      ]
     },
     "execution_count": 15,
     "metadata": {},
     "output_type": "execute_result"
    }
   ],
   "source": [
    "s = Solution()\n",
    "s.reorganizeString('vvvlo')"
   ]
  },
  {
   "cell_type": "markdown",
   "id": "088171b4-da33-4001-bb5f-792eb343c307",
   "metadata": {},
   "source": [
    "```O(nlogn)```"
   ]
  },
  {
   "cell_type": "markdown",
   "id": "4644b0b5-d134-45b9-a74a-f8fc6e328f45",
   "metadata": {},
   "source": [
    "# P5\n"
   ]
  },
  {
   "cell_type": "markdown",
   "id": "da7ebfde-5772-4076-a82d-d4d4af1a89b0",
   "metadata": {},
   "source": [
    "    Longest Substring Without Repeating Characters\n"
   ]
  },
  {
   "cell_type": "code",
   "execution_count": 80,
   "id": "91748045-eb34-4cce-a68c-cc473654a367",
   "metadata": {},
   "outputs": [],
   "source": [
    "class Solution:\n",
    "    def lengthOfLongestSubstring(self, s: str) -> int:\n",
    "        d = {}\n",
    "        v = 0\n",
    "        idx1 = 0\n",
    "        idx2 = 0\n",
    "        while idx2 < len(s):\n",
    "            if idx1 == len(s):\n",
    "                idx2+=1\n",
    "                idx1=idx2\n",
    "            elif s[idx1] in d.keys():\n",
    "                v = max(len(d),v)\n",
    "                d.clear()\n",
    "                idx2+=1\n",
    "                idx1 = idx2\n",
    "            else:\n",
    "                d[s[idx1]] = 0\n",
    "                idx1+=1\n",
    "        return  max(len(d),v)"
   ]
  },
  {
   "cell_type": "code",
   "execution_count": 85,
   "id": "94529cc1-1bc9-49c7-a4f6-2ac52e38a0f6",
   "metadata": {},
   "outputs": [
    {
     "data": {
      "text/plain": [
       "2"
      ]
     },
     "execution_count": 85,
     "metadata": {},
     "output_type": "execute_result"
    }
   ],
   "source": [
    "Solution().lengthOfLongestSubstring(\"aaab\")"
   ]
  },
  {
   "cell_type": "markdown",
   "id": "4a06a0aa-507e-4b23-825a-b2cff950c92d",
   "metadata": {},
   "source": [
    "### Better Solution"
   ]
  },
  {
   "cell_type": "code",
   "execution_count": 93,
   "id": "9f322dde-f682-4925-b495-cd724de21277",
   "metadata": {},
   "outputs": [],
   "source": [
    "class Solution:\n",
    "    def lengthOfLongestSubstring(self, s: str) -> int:\n",
    "        charSet = set()\n",
    "        l = 0\n",
    "        res = 0\n",
    "        for r in range(len(s)):\n",
    "            while s[r] in charSet:\n",
    "                charSet.remove(s[l])\n",
    "                l+=1\n",
    "            charSet.add(s[r])\n",
    "            res = max(res,r-l+1)\n",
    "        return res"
   ]
  },
  {
   "cell_type": "code",
   "execution_count": 92,
   "id": "2ddb613b-b908-4dc6-9917-9b6c246cfb14",
   "metadata": {},
   "outputs": [
    {
     "data": {
      "text/plain": [
       "2"
      ]
     },
     "execution_count": 92,
     "metadata": {},
     "output_type": "execute_result"
    }
   ],
   "source": [
    "Solution().lengthOfLongestSubstring(\"aaab\")"
   ]
  },
  {
   "cell_type": "markdown",
   "id": "8a2632fe-0376-4841-aaa7-8c24c94fdfb8",
   "metadata": {},
   "source": [
    "# P6\n",
    "    Given an array of integers nums and an integer target, return indices of the two numbers such that they add up to target.\n",
    "\n",
    "    You may assume that each input would have exactly one solution, and you may not use the same element twice.\n",
    "\n",
    "    You can return the answer in any order."
   ]
  },
  {
   "cell_type": "code",
   "execution_count": 178,
   "id": "2efc87c1-93d7-4fb1-80a1-899f711efedf",
   "metadata": {},
   "outputs": [],
   "source": [
    "from typing import List\n",
    "class Solution:\n",
    "    def twoSum(self, nums: List[int], target: int) -> List[int]:\n",
    "        idx1 , idx2 = 0,1\n",
    "        length = len(nums)\n",
    "        d = {}\n",
    "        while idx1 < length-1:\n",
    "            print(idx1,idx2)\n",
    "            if idx2 >= length:\n",
    "                idx1+=1\n",
    "                idx2 = idx1+1\n",
    "                continue\n",
    "            elif (idx1,idx2) in d or (idx2,idx1) in d :\n",
    "                 idx2+=1\n",
    "                 continue\n",
    "            elif nums[idx1] +nums[idx2] == target:\n",
    "                 return [idx1,idx2]\n",
    "            else :\n",
    "                 d[idx1,idx2] = nums[idx1]+nums[idx2]\n",
    "            idx2+=1\n",
    "            "
   ]
  },
  {
   "cell_type": "code",
   "execution_count": 175,
   "id": "2ff968c5-54d9-4d05-a6a8-2749276008b4",
   "metadata": {},
   "outputs": [
    {
     "name": "stdout",
     "output_type": "stream",
     "text": [
      "0 1\n",
      "0 2\n",
      "0 3\n",
      "0 4\n",
      "0 5\n",
      "0 6\n",
      "0 7\n",
      "0 8\n",
      "0 9\n",
      "0 10\n",
      "0 11\n",
      "0 12\n",
      "0.0017092227935791016\n"
     ]
    }
   ],
   "source": [
    "import time\n",
    "s = time.time()\n",
    "Solution().twoSum([3,1,1,2,1,2,12,1,2,1,21,312312,3,12,3,12,3,123,1,35,25143,1234],6)\n",
    "e = time.time()\n",
    "print(e-s)"
   ]
  },
  {
   "cell_type": "markdown",
   "id": "26fc83a5-5653-4060-a2df-edb14e1fc73d",
   "metadata": {},
   "source": [
    "`problems :\n",
    "    memory usage exceeded\n",
    "    `"
   ]
  },
  {
   "cell_type": "code",
   "execution_count": 176,
   "id": "f123e680-0a64-416c-ae1c-18997483377f",
   "metadata": {},
   "outputs": [],
   "source": [
    "from typing import List\n",
    "class Solution:\n",
    "    def twoSum(self, nums: List[int], target: int) -> List[int]:\n",
    "        idx1 , idx2 = 0,1\n",
    "        length = len(nums)\n",
    "        while idx1 < length-1:\n",
    "            print(idx1,idx2)\n",
    "            if idx2 >= length:\n",
    "                idx1+=1\n",
    "                idx2 = idx1+1\n",
    "                continue\n",
    "            elif nums[idx1] +nums[idx2] == target:\n",
    "                 return [idx1,idx2]\n",
    "\n",
    "            idx2+=1"
   ]
  },
  {
   "cell_type": "markdown",
   "id": "9ab1f8bd-f2b5-4508-8358-bb103c9dbf89",
   "metadata": {},
   "source": [
    "`Problems :   slowest algo ever`"
   ]
  },
  {
   "cell_type": "code",
   "execution_count": 172,
   "id": "44f043cd-be60-485d-8bd4-94970c6ce2e5",
   "metadata": {},
   "outputs": [],
   "source": [
    "from typing import List\n",
    "class Solution:\n",
    "    def twoSum(self, nums: List[int], target: int) -> List[int]:\n",
    "        num_indices = {}  \n",
    "        for i, num in enumerate(nums):\n",
    "           complement = target - num\n",
    "           if complement in num_indices:\n",
    "              return [num_indices[complement], i]\n",
    "           num_indices[num] = i    "
   ]
  },
  {
   "cell_type": "code",
   "execution_count": 166,
   "id": "936d52f9-b168-492c-b645-af05e7ad702a",
   "metadata": {},
   "outputs": [
    {
     "name": "stdout",
     "output_type": "stream",
     "text": [
      "0.00019359588623046875\n"
     ]
    }
   ],
   "source": [
    "import time\n",
    "s = time.time()\n",
    "Solution2().twoSum([3,1,1,2,1,2,12,1,2,1,21,312312,3,12,3,12,3,123,1,35,25143,1234],6)\n",
    "e = time.time()\n",
    "print(e-s)"
   ]
  },
  {
   "cell_type": "markdown",
   "id": "37e09b6c-30ae-4f28-ad88-e02779f5e44f",
   "metadata": {},
   "source": [
    "`Problems : chatgpt`"
   ]
  },
  {
   "cell_type": "markdown",
   "id": "ace17f83-dac0-4ba1-8f56-d53f9ee206af",
   "metadata": {},
   "source": [
    "# P7 "
   ]
  },
  {
   "cell_type": "markdown",
   "id": "b0e0f27b-9135-4397-b112-8743a2cd5f6d",
   "metadata": {},
   "source": [
    "## Median Of Two Sorted Arrays\n"
   ]
  },
  {
   "cell_type": "markdown",
   "id": "7d7636f6-5c0a-44bf-9bc7-bf7a7ece5dea",
   "metadata": {},
   "source": [
    "    Given two sorted arrays nums1 and nums2 of size m and n respectively, return the median of the two sorted arrays.\n",
    "\n",
    "    The overall run time complexity should be O(log (m+n)).\n",
    "    Example 1:\n",
    "\n",
    "    Input: nums1 = [1,3], nums2 = [2]\n",
    "    Output: 2.00000\n",
    "    Explanation: merged array = [1,2,3] and median is 2.\n",
    "    Example 2:\n",
    "\n",
    "    Input: nums1 = [1,2], nums2 = [3,4]\n",
    "    Output: 2.50000\n",
    "    Explanation: merged array = [1,2,3,4] and median is (2 + 3) / 2 = 2.5."
   ]
  },
  {
   "cell_type": "code",
   "execution_count": 1,
   "id": "2a65b39f-7200-4aa7-93f7-9c046a522da4",
   "metadata": {},
   "outputs": [],
   "source": [
    "from typing import List\n",
    "class Solution:\n",
    "    def findMedianSortedArrays(self, nums1: List[int], nums2: List[int]) -> float:\n",
    "        nums1.extend(nums2)\n",
    "        sorted_list = sorted(nums1)\n",
    "        length = len(sorted_list)\n",
    "        if length%2 == 0 :\n",
    "            return (sorted_list[length//2] + sorted_list[length//2 - 1])/2\n",
    "        else:\n",
    "            return sorted_list[length//2]"
   ]
  },
  {
   "cell_type": "code",
   "execution_count": 14,
   "id": "891d6536-b1b8-41b8-923b-d867038fdd4c",
   "metadata": {},
   "outputs": [
    {
     "name": "stdout",
     "output_type": "stream",
     "text": [
      "2\n",
      "0.010610103607177734\n"
     ]
    }
   ],
   "source": [
    "input1 = [1]\n",
    "input2 = [2,4]\n",
    "import time \n",
    "s = time.time()\n",
    "print(Solution().findMedianSortedArrays(input1,input2))\n",
    "e = time.time()\n",
    "print(e-s)"
   ]
  },
  {
   "cell_type": "code",
   "execution_count": 55,
   "id": "897c4fc6-5f5a-473d-ad10-be0a18f6d076",
   "metadata": {},
   "outputs": [],
   "source": [
    "from typing import List\n",
    "class Solution:\n",
    "    def findMedianSortedArrays(self, nums1: List[int], nums2: List[int]) -> float:\n",
    "        nums1.extend(nums2)\n",
    "        l1 = len(nums1)\n",
    "        l2 = len(nums2)\n",
    "        if nums1[l1-1] < nums2[0]:\n",
    "            sorted_list = nums1.extend(nums2)\n",
    "        elif nums1[l1-1] > nums2[0] :\n",
    "            nums1.extend(nums2)\n",
    "            sorted_list = sorted(nums1)\n",
    "        length = l1+l2\n",
    "        if length%2 == 0:\n",
    "            return (sorted_list[length//2] + sorted_list[length//2 - 1])/2\n",
    "        else:\n",
    "            return sorted_list[length//2]"
   ]
  },
  {
   "cell_type": "code",
   "execution_count": 61,
   "id": "7dc0a502-84f7-4c94-90e9-fbabbea23da2",
   "metadata": {},
   "outputs": [
    {
     "name": "stdout",
     "output_type": "stream",
     "text": [
      "0.00010275840759277344\n"
     ]
    }
   ],
   "source": [
    "input1 = [1,1]\n",
    "input2 = [2,4]\n",
    "import time \n",
    "s = time.time()\n",
    "Solution().findMedianSortedArrays(input1,input2)\n",
    "e = time.time()\n",
    "print(e-s)"
   ]
  }
 ],
 "metadata": {
  "kernelspec": {
   "display_name": "Python 3 (ipykernel)",
   "language": "python",
   "name": "python3"
  },
  "language_info": {
   "codemirror_mode": {
    "name": "ipython",
    "version": 3
   },
   "file_extension": ".py",
   "mimetype": "text/x-python",
   "name": "python",
   "nbconvert_exporter": "python",
   "pygments_lexer": "ipython3",
   "version": "3.9.2"
  }
 },
 "nbformat": 4,
 "nbformat_minor": 5
}

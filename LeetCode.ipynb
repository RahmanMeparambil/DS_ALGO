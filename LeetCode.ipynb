{
 "cells": [
  {
   "cell_type": "code",
   "execution_count": 1,
   "id": "2b98231a",
   "metadata": {},
   "outputs": [],
   "source": [
    "from typing import Optional\n",
    "class ListNode:\n",
    "    def __init__(self, val=0, next=None):\n",
    "        self.val = val\n",
    "        self.next = next\n",
    "class Solution:\n",
    "    def addTwoNumbers(self, l1: Optional[ListNode], l2: Optional[ListNode]) -> Optional[ListNode]: \n",
    "        res = ListNode()\n",
    "        pointer = res\n",
    "        while l1 or l2:\n",
    "            carry = 0 \n",
    "            if l1 :\n",
    "                carry += l1.val\n",
    "                l1 = l1.next\n",
    "            if l2 :\n",
    "                carry += l2.val\n",
    "                l2 = l2.next\n",
    "                \n",
    "            pointer.val += carry%10\n",
    "            pointer.next = ListNode(carry//10)\n",
    "            pointer = pointer.next\n",
    "\n",
    "        return res\n",
    "                \n",
    "    def display(self,l1: Optional[ListNode]):\n",
    "        idx = 0\n",
    "        while l1 != None:\n",
    "            print(f'idx{idx} : {l1.val}')\n",
    "            idx+=1\n",
    "            l1 = l1.next\n",
    "            \n",
    "    def list_Node(self,lis_):\n",
    "        root = ListNode()\n",
    "        pointer = root\n",
    "        for v in lis_:\n",
    "            pointer.next = ListNode(v)\n",
    "            pointer = pointer.next\n",
    "        return root"
   ]
  },
  {
   "cell_type": "code",
   "execution_count": 2,
   "id": "7163d1f6",
   "metadata": {},
   "outputs": [],
   "source": [
    "a0=ListNode(1)\n",
    "b=ListNode(2)\n",
    "c=ListNode(3)\n",
    "a0.next=b\n",
    "b.next=c"
   ]
  },
  {
   "cell_type": "code",
   "execution_count": 3,
   "id": "93c6b338",
   "metadata": {},
   "outputs": [],
   "source": [
    "a1=ListNode(1)\n",
    "b=ListNode(3)\n",
    "c=ListNode(4)\n",
    "a1.next=b\n",
    "b.next=c"
   ]
  },
  {
   "cell_type": "code",
   "execution_count": 4,
   "id": "d40c785d",
   "metadata": {},
   "outputs": [
    {
     "name": "stdout",
     "output_type": "stream",
     "text": [
      "idx0 : 2\n",
      "idx1 : 5\n",
      "idx2 : 7\n",
      "idx3 : 0\n"
     ]
    }
   ],
   "source": [
    "sol = Solution().addTwoNumbers(a0,a1)\n",
    "Solution().display(sol)"
   ]
  },
  {
   "cell_type": "code",
   "execution_count": 5,
   "id": "a4529371",
   "metadata": {},
   "outputs": [
    {
     "name": "stdout",
     "output_type": "stream",
     "text": [
      "idx0 : 0\n",
      "idx1 : 8\n",
      "idx2 : 9\n",
      "idx3 : 9\n",
      "idx4 : 9\n",
      "idx5 : 10\n",
      "idx6 : 9\n",
      "idx7 : 9\n",
      "idx8 : 0\n"
     ]
    }
   ],
   "source": [
    "a0 = Solution().list_Node(lis_=[9,9,9,9,9,9,9])\n",
    "a1 = Solution().list_Node([9,9,9,9])\n",
    "s = Solution()\n",
    "s.display(s.addTwoNumbers(a0,a1))"
   ]
  },
  {
   "cell_type": "code",
   "execution_count": 6,
   "id": "e20913ee",
   "metadata": {},
   "outputs": [
    {
     "data": {
      "text/plain": [
       "1"
      ]
     },
     "execution_count": 6,
     "metadata": {},
     "output_type": "execute_result"
    }
   ],
   "source": [
    "18//10"
   ]
  },
  {
   "cell_type": "markdown",
   "id": "967e6041",
   "metadata": {},
   "source": [
    "# P2"
   ]
  },
  {
   "cell_type": "markdown",
   "id": "9e44005d",
   "metadata": {},
   "source": [
    "Given an integer array nums, return all the triplets [nums[i], nums[j], nums[k]] such that i != j, i != k, and j != k, and nums[i] + nums[j] + nums[k] == 0.\n",
    "\n",
    "Notice that the solution set must not contain duplicate triplets."
   ]
  },
  {
   "cell_type": "markdown",
   "id": "c00e660a",
   "metadata": {},
   "source": [
    "### Define Problem "
   ]
  },
  {
   "cell_type": "markdown",
   "id": "ad750555",
   "metadata": {},
   "source": [
    "\n",
    "Problem :   Find all the three elements inside a list that leads to zero on addition .\n",
    "\n",
    "Input   :  A List of elements that contains atleast 3 values\n",
    "\n",
    "Output  :  A distinct list of lists that contain three elements leading to zero .\n"
   ]
  },
  {
   "cell_type": "markdown",
   "id": "103e3ef2",
   "metadata": {},
   "source": [
    "### Example Inputs and Outputs"
   ]
  },
  {
   "cell_type": "code",
   "execution_count": 7,
   "id": "44179247",
   "metadata": {},
   "outputs": [],
   "source": [
    "t0 = {'input':[-1,0,1,2,-1,-4],'output':[[-1,-1,2],[-1,0,1]]}\n",
    "t1 = {'input':[0,1,1],'output':[]}\n",
    "t2 = {'input':[0,0,0],'output':[[0,0,0]]}\n",
    "\n",
    "tests = [t0,t1,t2]"
   ]
  },
  {
   "cell_type": "markdown",
   "id": "de34299f",
   "metadata": {},
   "source": [
    "### Solution for the problem"
   ]
  },
  {
   "cell_type": "markdown",
   "id": "9c86feac",
   "metadata": {},
   "source": [
    "1 .  init three pointers i,j,k =0,0,0\n",
    "\n",
    "2 .  loop until i reaches the 3rd last index:\n",
    "\n",
    "          if j reaches 2nd last index :\n",
    "              i+=1\n",
    "              j=j+1\n",
    "              k=j+1\n",
    "              continue\n",
    "          elif k reaches last index :\n",
    "              j++\n",
    "              k = j+1\n",
    "          if 3sum == 0 :\n",
    "              make a list in which thier elements are sorted\n",
    "              if the list not in result :\n",
    "                    append newList\n",
    "                 "
   ]
  },
  {
   "cell_type": "markdown",
   "id": "cd74cb75",
   "metadata": {},
   "source": [
    "### Implement The Solution"
   ]
  },
  {
   "cell_type": "code",
   "execution_count": 8,
   "id": "8777fa74",
   "metadata": {
    "scrolled": true
   },
   "outputs": [],
   "source": [
    "from typing import List\n",
    "class Solution:\n",
    "    def threeSum(self, nums: List[int]) -> List[List[int]]:\n",
    "        res = []\n",
    "        nums = sorted(nums)\n",
    "        i = 0 \n",
    "        j = 1\n",
    "        while i != len(nums)-2:\n",
    "            \n",
    "            if j == len(nums)-1:\n",
    "                i += 1\n",
    "                j = i+1\n",
    "            for k in range(j+1,len(nums)):\n",
    "#                 print(f'i : {nums[i]} j:{nums[j]} k:{nums[k]}')\n",
    "                if nums[i]+nums[j]+nums[k] == 0:\n",
    "                    l = sorted([nums[i],nums[j],nums[k]])\n",
    "                    if l not in res:\n",
    "                        res.append(l)\n",
    "            j+=1\n",
    "                \n",
    "        return res"
   ]
  },
  {
   "cell_type": "code",
   "execution_count": 9,
   "id": "3d995a19",
   "metadata": {
    "scrolled": true
   },
   "outputs": [
    {
     "name": "stdout",
     "output_type": "stream",
     "text": [
      "True\n",
      "True\n",
      "True\n"
     ]
    }
   ],
   "source": [
    "for t in tests:\n",
    "    print(Solution().threeSum(t['input']) == t['output'])"
   ]
  },
  {
   "cell_type": "markdown",
   "id": "8758fdc0",
   "metadata": {},
   "source": [
    "### Analyze the complexity"
   ]
  },
  {
   "cell_type": "markdown",
   "id": "2084f13f",
   "metadata": {},
   "source": [
    "Best Case Complexity  : $n^3$"
   ]
  },
  {
   "cell_type": "markdown",
   "id": "8a2e69b4",
   "metadata": {},
   "source": [
    "### Implement a better solutions"
   ]
  },
  {
   "cell_type": "markdown",
   "id": "5df0e605",
   "metadata": {},
   "source": [
    "### ALGO\n",
    "0.  sort the list\n",
    "1.  create 3 pointers i=0 , j=i+1, k = len(list)\n",
    "2.  \n",
    "    for ( i = 0,i <= len(nums)-2;i++)\n",
    "    \n",
    "    {\n",
    "    \n",
    "        j = i+1\n",
    "        k = len(list)\n",
    "        while j < k:\n",
    "        {\n",
    "            if nums[i] != nums[i+1] :\n",
    "             {\n",
    "                i ++\n",
    "                break\n",
    "             }\n",
    "             elif nums[j] != nums[j+1]:\n",
    "             {\n",
    "                j++\n",
    "                continue\n",
    "             }   \n",
    "            sum = nums[i] +nums[j]+nums[k]\n",
    "            if sum == 0 :\n",
    "              {\n",
    "                  append to res\n",
    "                  k --;\n",
    "               }\n",
    "             elif sum > 0:\n",
    "               {\n",
    "                  k--\n",
    "                }\n",
    "              else\n",
    "              {  \n",
    "                  j++;\n",
    "               }\n",
    "            }\n",
    "       }\n",
    "         \n",
    "         \n",
    "         "
   ]
  },
  {
   "cell_type": "code",
   "execution_count": 10,
   "id": "d329b897",
   "metadata": {},
   "outputs": [],
   "source": [
    "from typing import List\n",
    "class Solution:\n",
    "    def __init__(self):\n",
    "        pass\n",
    "    def threeSum(self, nums: List[int]) -> List[List[int]]:\n",
    "        res = []\n",
    "        nums = sorted(nums)\n",
    "\n",
    "        for i in range(len(nums)-1) :\n",
    "            if nums[i] == nums[i-1] != 0:\n",
    "                continue\n",
    "            j = i+1\n",
    "            k = len(nums)-1\n",
    "            while j < k:\n",
    "                s = nums[i]+nums[j]+nums[k]\n",
    "                if s == 0 :\n",
    "                    el = [nums[i],nums[j],nums[k]]\n",
    "                    res.append(el)\n",
    "                    k-=1\n",
    "      \n",
    "                elif s > 0:\n",
    "                    k-=1\n",
    "    \n",
    "                else:\n",
    "                    j+=1\n",
    "                    if nums[j] == nums[j-1]:\n",
    "                        j+=1\n",
    "        return res\n",
    "        \n",
    "        "
   ]
  },
  {
   "cell_type": "code",
   "execution_count": 11,
   "id": "b98f7798",
   "metadata": {},
   "outputs": [
    {
     "name": "stdout",
     "output_type": "stream",
     "text": [
      "[[-1, -1, 2], [-1, 0, 1]]\n"
     ]
    }
   ],
   "source": [
    "print(Solution().threeSum([-1,0,1,2,-1,-4]))\n"
   ]
  }
 ],
 "metadata": {
  "kernelspec": {
   "display_name": "Python 3 (ipykernel)",
   "language": "python",
   "name": "python3"
  },
  "language_info": {
   "codemirror_mode": {
    "name": "ipython",
    "version": 3
   },
   "file_extension": ".py",
   "mimetype": "text/x-python",
   "name": "python",
   "nbconvert_exporter": "python",
   "pygments_lexer": "ipython3",
   "version": "3.9.2"
  }
 },
 "nbformat": 4,
 "nbformat_minor": 5
}

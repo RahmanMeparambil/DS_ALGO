{
 "cells": [
  {
   "cell_type": "markdown",
   "id": "9bd3be44-74d9-4941-a6aa-7028094040de",
   "metadata": {},
   "source": [
    "# 1. INTRO TO PY3"
   ]
  },
  {
   "cell_type": "markdown",
   "id": "9c29e577-4e08-409e-a1b1-2436203af0eb",
   "metadata": {},
   "source": [
    "### Exercises"
   ]
  },
  {
   "cell_type": "markdown",
   "id": "d68fd738-4e53-47d3-b66a-162e687c155d",
   "metadata": {},
   "source": [
    "``` E-1.1  Write a program to prompt a user to enter his/her name and mailing address and display the entered information on the screen```"
   ]
  },
  {
   "cell_type": "code",
   "execution_count": 1,
   "id": "d17d8911-062f-4a58-bf3c-4cee29bc22b1",
   "metadata": {},
   "outputs": [
    {
     "name": "stdin",
     "output_type": "stream",
     "text": [
      "Enter name :  rahman\n",
      "Enter mail :  r@gmail.com\n"
     ]
    },
    {
     "name": "stdout",
     "output_type": "stream",
     "text": [
      "rahman r@gmail.com\n"
     ]
    }
   ],
   "source": [
    "name = input('Enter name : ')\n",
    "mail = input('Enter mail : ')\n",
    "print(name,mail)"
   ]
  },
  {
   "cell_type": "markdown",
   "id": "4bcc4560-75d4-4663-803f-4018b9e74d71",
   "metadata": {},
   "source": [
    "`E-1.2  Write a program to compute the area of different shapes and display the information on the screen`"
   ]
  },
  {
   "cell_type": "code",
   "execution_count": 78,
   "id": "d1f78e5c-1448-44fe-b498-88174f63bb2b",
   "metadata": {},
   "outputs": [],
   "source": [
    "class shape:\n",
    "    def __init__(self,name,n):\n",
    "        self.name = name\n",
    "        self.edges = n\n",
    "    def area(self):\n",
    "        raise NotImplementedError('Subclass implements this method')\n",
    "\n",
    "class rectangle(shape):\n",
    "    def __init__(self,length,width):\n",
    "        super().__init__('Rectangle',4)\n",
    "        self.length = length\n",
    "        self.width = width\n",
    "    def area(self):\n",
    "        return self.length*self.width\n",
    "\n",
    "class circle(shape):\n",
    "    def __init__(self,radius):\n",
    "        super().__init__('circle',1)\n",
    "        self.radius = radius\n",
    "    def area(self):\n",
    "        return self.radius*self.radius\n",
    "        "
   ]
  },
  {
   "cell_type": "code",
   "execution_count": 81,
   "id": "dcab36c3-d939-47cb-b955-e5bb4bb5ebd4",
   "metadata": {},
   "outputs": [
    {
     "data": {
      "text/plain": [
       "4.840000000000001"
      ]
     },
     "execution_count": 81,
     "metadata": {},
     "output_type": "execute_result"
    }
   ],
   "source": [
    "rectangle(3,4).area()\n",
    "circle(2.2).area()"
   ]
  },
  {
   "cell_type": "markdown",
   "id": "0ac95bfd-cc7b-4b65-b21c-cd533dd329a8",
   "metadata": {},
   "source": [
    "`E-1.3  write a program to compute the factorial of a given number and display the result on the screen`"
   ]
  },
  {
   "cell_type": "code",
   "execution_count": 111,
   "id": "cdc7c523-d6a4-413f-a683-720e79e501d7",
   "metadata": {},
   "outputs": [],
   "source": [
    "def fact(n):\n",
    "    assert n >= 0,'No Factorial !!'\n",
    "    if n<=1 :\n",
    "        return 1\n",
    "    return n*fact(n-1)"
   ]
  },
  {
   "cell_type": "code",
   "execution_count": 113,
   "id": "ad053b55-d22d-4e6b-b2f2-06c09d9e11b4",
   "metadata": {},
   "outputs": [
    {
     "data": {
      "text/plain": [
       "2"
      ]
     },
     "execution_count": 113,
     "metadata": {},
     "output_type": "execute_result"
    }
   ],
   "source": [
    "fact(2)"
   ]
  },
  {
   "cell_type": "markdown",
   "id": "d2d2ca7d-ac93-4b02-9b36-70000420d1ff",
   "metadata": {},
   "source": [
    "`E-1.4  write a program to check if a given number is prime and display the result on the screen`"
   ]
  },
  {
   "cell_type": "code",
   "execution_count": 127,
   "id": "1f500291-2b5f-4617-ab78-4693d74c69f2",
   "metadata": {},
   "outputs": [
    {
     "data": {
      "text/plain": [
       "False"
      ]
     },
     "execution_count": 127,
     "metadata": {},
     "output_type": "execute_result"
    }
   ],
   "source": [
    "def isPrime(n):\n",
    "    if n>1:\n",
    "        for i in range(2,n):\n",
    "            if n%i == 0:\n",
    "                return False\n",
    "        return True\n",
    "isPrime(10)"
   ]
  },
  {
   "cell_type": "markdown",
   "id": "ebb6579d-aeb7-41b0-92b3-d89580c0c807",
   "metadata": {},
   "source": [
    "`E-1.5 Write a program to find the GCD of two numbers`"
   ]
  },
  {
   "cell_type": "code",
   "execution_count": 193,
   "id": "f30b5b05-32e0-40c7-a1b7-8c20c03d0646",
   "metadata": {},
   "outputs": [],
   "source": [
    "x,y = 10,15\n",
    "\n",
    "def gcd(x,y):\n",
    "    def find(smaller,greater) :\n",
    "        for i in range(smaller,1,-1):\n",
    "            if smaller%i == 0 and greater%i == 0:\n",
    "                return i\n",
    "                \n",
    "    if x == min(x,y):\n",
    "        return find(x,y)\n",
    "    else:\n",
    "        return find(y,x)\n",
    "\n"
   ]
  },
  {
   "cell_type": "code",
   "execution_count": 194,
   "id": "ebc770ab-c37d-4e2d-985a-bbb79f4f8851",
   "metadata": {},
   "outputs": [
    {
     "data": {
      "text/plain": [
       "5"
      ]
     },
     "execution_count": 194,
     "metadata": {},
     "output_type": "execute_result"
    }
   ],
   "source": [
    "gcd(x,y)"
   ]
  },
  {
   "cell_type": "markdown",
   "id": "04e6d03d-6c75-406b-8602-85490976d826",
   "metadata": {},
   "source": [
    "`E-1.6  write a program to find the average of N natural numbers where the value of N is entered`"
   ]
  },
  {
   "cell_type": "code",
   "execution_count": 212,
   "id": "421fad1d-ebef-44a6-9e0b-550f45c31062",
   "metadata": {},
   "outputs": [
    {
     "data": {
      "text/plain": [
       "71.5"
      ]
     },
     "execution_count": 212,
     "metadata": {},
     "output_type": "execute_result"
    }
   ],
   "source": [
    "def avg(n):\n",
    "    l = [i for i in range(n)]\n",
    "    return sum(l)/len(l)+1\n",
    "avg(142)"
   ]
  },
  {
   "cell_type": "markdown",
   "id": "f4884a2e-4b02-4e78-91a3-93f1cfca9a09",
   "metadata": {},
   "source": [
    "`E-1.7  Write a program that returns the number of vowels in a text where the text is entered through keyboard`"
   ]
  },
  {
   "cell_type": "code",
   "execution_count": 218,
   "id": "c7708c63-4dc2-4842-9faf-1dbeee89991c",
   "metadata": {},
   "outputs": [
    {
     "name": "stdin",
     "output_type": "stream",
     "text": [
      "Enter Your String :  hellow\n"
     ]
    },
    {
     "data": {
      "text/plain": [
       "2"
      ]
     },
     "execution_count": 218,
     "metadata": {},
     "output_type": "execute_result"
    }
   ],
   "source": [
    "def vowels():\n",
    "    str = input('Enter Your String : ')\n",
    "    v = ['a','e','i','o','u',]\n",
    "    count = 0\n",
    "    for s in str:\n",
    "        if s in v:\n",
    "            count +=1\n",
    "    return count\n",
    "vowels()"
   ]
  },
  {
   "cell_type": "markdown",
   "id": "0659f03c-c5d1-4afd-b826-cce060ffc7c4",
   "metadata": {},
   "source": [
    "`E-1.8  Write a program that returns the chinese zodiac sign of a person where year of birth is entered`"
   ]
  },
  {
   "cell_type": "code",
   "execution_count": null,
   "id": "d3033bb3-7881-4447-94a2-90faf7605440",
   "metadata": {},
   "outputs": [],
   "source": []
  },
  {
   "cell_type": "markdown",
   "id": "1bcb64f1-47b4-46e2-b972-c04b66915f79",
   "metadata": {},
   "source": [
    "`E-1.9  Write a program to find the number of words in the text entered by the user and then to sort the words`"
   ]
  },
  {
   "cell_type": "code",
   "execution_count": 248,
   "id": "458fc99b-a7f0-4e2f-b4f0-2e803c44dc67",
   "metadata": {},
   "outputs": [],
   "source": [
    "def length():\n",
    "    sentence = input('Enter a sentence : ').split()\n",
    "    n = len(sentence)\n",
    "    return n,sorted(sentence)"
   ]
  },
  {
   "cell_type": "code",
   "execution_count": 249,
   "id": "1a4bd6ba-c277-4644-9ff4-611a24b80ade",
   "metadata": {},
   "outputs": [
    {
     "name": "stdin",
     "output_type": "stream",
     "text": [
      "Enter a sentence :  adf  adf a adf a \n"
     ]
    },
    {
     "data": {
      "text/plain": [
       "(5, ['a', 'a', 'adf', 'adf', 'adf'])"
      ]
     },
     "execution_count": 249,
     "metadata": {},
     "output_type": "execute_result"
    }
   ],
   "source": [
    "length()"
   ]
  },
  {
   "cell_type": "markdown",
   "id": "7256f359-871d-47d8-8c9a-e10e8f84b73d",
   "metadata": {},
   "source": [
    "`E-1.10  write a program to find the sum of only integer numbers in a list . For non integers an exception is caught`"
   ]
  },
  {
   "cell_type": "code",
   "execution_count": 252,
   "id": "274af108-69a8-4997-be06-62469c20f6d1",
   "metadata": {},
   "outputs": [
    {
     "name": "stdin",
     "output_type": "stream",
     "text": [
      "Enter a list of numbers seperated by space : 3241 a\n"
     ]
    },
    {
     "name": "stdout",
     "output_type": "stream",
     "text": [
      "entry cannot be converted to integer\n",
      "entry cannot be converted to integer\n",
      "10\n"
     ]
    }
   ],
   "source": [
    "number = input('Enter a list of numbers seperated by space :')\n",
    "s = 0\n",
    "for n in number:\n",
    "    try:\n",
    "        num = int(n)\n",
    "        s += num\n",
    "    except :\n",
    "        print('entry cannot be converted to integer')\n",
    "print(s)"
   ]
  },
  {
   "cell_type": "markdown",
   "id": "6c6b3841-e64a-4960-822b-1a9054d965a2",
   "metadata": {},
   "source": [
    "### Reinforcement"
   ]
  },
  {
   "cell_type": "markdown",
   "id": "cc00f22f-4751-4d34-998e-e68b4818a679",
   "metadata": {},
   "source": [
    "`R-1.1  Write a short python function, is_multiple(n,m), that takes two integer values and returns True if n is a multiple of m, that is,`\n",
    "n=${m_i}$ for some integer i, and False otherwise."
   ]
  },
  {
   "cell_type": "code",
   "execution_count": 284,
   "id": "e72f71c5-a6a3-4667-8ebe-230ba101d9f5",
   "metadata": {},
   "outputs": [
    {
     "data": {
      "text/plain": [
       "False"
      ]
     },
     "execution_count": 284,
     "metadata": {},
     "output_type": "execute_result"
    }
   ],
   "source": [
    "def is_multiple(n,m):\n",
    "    if n%m == 0:\n",
    "        return True\n",
    "    return False\n",
    "\n",
    "\n",
    "is_multiple(4,5)"
   ]
  },
  {
   "cell_type": "markdown",
   "id": "e7f61f0a-b406-4c11-b131-02de42ee0e68",
   "metadata": {},
   "source": [
    "`R-1.2  Write a short Python function, is_even(k) , that takes an integer value and returns True if k is even, and False otherwise. However,your function cannot use the multiplication modulo, or division operator.`"
   ]
  },
  {
   "cell_type": "code",
   "execution_count": 283,
   "id": "e9c3ccf6-703e-41b3-80cf-1d43c998298b",
   "metadata": {},
   "outputs": [
    {
     "data": {
      "text/plain": [
       "True"
      ]
     },
     "execution_count": 283,
     "metadata": {},
     "output_type": "execute_result"
    }
   ],
   "source": [
    "def is_even(k):\n",
    "    if k&1 == 0:\n",
    "        return True\n",
    "    else:\n",
    "        return False\n",
    "\n",
    "\n",
    "is_even(6)"
   ]
  },
  {
   "cell_type": "markdown",
   "id": "b0b8071a-0390-4fab-afd7-21849684c3b8",
   "metadata": {},
   "source": [
    "`R-1.3  Write a short python function, minmax(data) , that takes a sequence of three or more numbers, and returns the smallest and largest numbers, in the form of a tuple of length two, Do not use the built-in functions min or max in implementing your solution.`"
   ]
  },
  {
   "cell_type": "code",
   "execution_count": 292,
   "id": "95ebb950-dccc-4a0e-b049-10898bcc7d8f",
   "metadata": {},
   "outputs": [
    {
     "data": {
      "text/plain": [
       "(0, 100)"
      ]
     },
     "execution_count": 292,
     "metadata": {},
     "output_type": "execute_result"
    }
   ],
   "source": [
    "def minmax(data):\n",
    "    try:\n",
    "      data = sorted(data)\n",
    "      return data[0],data[len(data)-1]\n",
    "    except:\n",
    "        return []\n",
    "\n",
    "minmax([0,10,100,1])"
   ]
  }
 ],
 "metadata": {
  "kernelspec": {
   "display_name": "Python 3 (ipykernel)",
   "language": "python",
   "name": "python3"
  },
  "language_info": {
   "codemirror_mode": {
    "name": "ipython",
    "version": 3
   },
   "file_extension": ".py",
   "mimetype": "text/x-python",
   "name": "python",
   "nbconvert_exporter": "python",
   "pygments_lexer": "ipython3",
   "version": "3.9.2"
  }
 },
 "nbformat": 4,
 "nbformat_minor": 5
}

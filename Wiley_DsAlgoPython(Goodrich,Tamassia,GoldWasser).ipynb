{
 "cells": [
  {
   "cell_type": "markdown",
   "id": "5c192ff6",
   "metadata": {},
   "source": [
    "# CHAPTER 1"
   ]
  },
  {
   "cell_type": "markdown",
   "id": "6c4fdc4f",
   "metadata": {},
   "source": [
    "## P1"
   ]
  },
  {
   "cell_type": "markdown",
   "id": "f80ffc5a",
   "metadata": {},
   "source": [
    "    Give an implementation of a function named norm such that norm(v,p) returns the p-norm value of v and norm(v) returns the euclidean norm of v . you can assume that v is a list of numbers"
   ]
  },
  {
   "cell_type": "markdown",
   "id": "0c27d0c0",
   "metadata": {},
   "source": [
    "### Step 1  \n",
    "    implement euclidean equation\n",
    "    "
   ]
  },
  {
   "cell_type": "markdown",
   "id": "beb4e20c",
   "metadata": {},
   "source": [
    "### Step 2"
   ]
  },
  {
   "cell_type": "code",
   "execution_count": 1,
   "id": "c306be30",
   "metadata": {},
   "outputs": [],
   "source": [
    "t0 = {'input':{'v':(4,3),'p':2},'output':5}"
   ]
  },
  {
   "cell_type": "markdown",
   "id": "fa4214f3",
   "metadata": {},
   "source": [
    "### Step 3"
   ]
  },
  {
   "cell_type": "code",
   "execution_count": 10,
   "id": "7e0458b9",
   "metadata": {},
   "outputs": [
    {
     "data": {
      "text/plain": [
       "5.0"
      ]
     },
     "execution_count": 10,
     "metadata": {},
     "output_type": "execute_result"
    }
   ],
   "source": [
    "def norm(v,p):\n",
    "    sum = 0\n",
    "    for vi in v:\n",
    "        sum += vi**p\n",
    "    return (sum)**0.5\n",
    "\n",
    "norm(t0['input']['v'],t0['input']['p'])"
   ]
  },
  {
   "cell_type": "markdown",
   "id": "83800518",
   "metadata": {},
   "source": [
    "$Timecomplexity : O(n)$"
   ]
  },
  {
   "cell_type": "markdown",
   "id": "53f7a635",
   "metadata": {},
   "source": [
    "# CHAPTER 2"
   ]
  },
  {
   "cell_type": "markdown",
   "id": "8cb028f1",
   "metadata": {},
   "source": [
    "### P2"
   ]
  },
  {
   "cell_type": "markdown",
   "id": "22e8b43e",
   "metadata": {},
   "source": [
    "    A class Customer contains the following details customer ID, custumer account number . Write a program that initializes the data members and displays them ."
   ]
  },
  {
   "cell_type": "code",
   "execution_count": 26,
   "id": "1575434d",
   "metadata": {},
   "outputs": [
    {
     "data": {
      "text/plain": [
       "ACC_ID : 121\n",
       "ACC_NO : 34125342"
      ]
     },
     "execution_count": 26,
     "metadata": {},
     "output_type": "execute_result"
    }
   ],
   "source": [
    "class Customer:\n",
    "    def __init__(self,id,account_no):\n",
    "        self.id = id\n",
    "        self.account_no = account_no\n",
    "    \n",
    "    def __repr__(self):\n",
    "        return f'ACC_ID : {self.id}\\nACC_NO : {self.account_no}'\n",
    "Customer(121,34125342)"
   ]
  },
  {
   "cell_type": "markdown",
   "id": "a7b752bd",
   "metadata": {},
   "source": [
    "### P3"
   ]
  },
  {
   "cell_type": "markdown",
   "id": "008633a1",
   "metadata": {},
   "source": [
    "    write a python class to represent a bank account . The class contains name of the account holder , account number , type of account , and balance amount s the data memebers . the member functions are as foloows  to initialize the data mamber , to deposit an amount , to withdraw amount after checking balance and to display name"
   ]
  },
  {
   "cell_type": "code",
   "execution_count": 109,
   "id": "8ca2caaf",
   "metadata": {},
   "outputs": [],
   "source": [
    "class Customer:\n",
    "    def __init__(self,name,id,account_no):\n",
    "        self.name = name\n",
    "        self.id = id\n",
    "        self.account_no = account_no\n",
    "    \n",
    "    def __repr__(self):\n",
    "        return f'CUST_NAME : {str.upper(self.name)}\\nACC_ID : {self.id}\\nACC_NO : {self.account_no}'\n",
    "\n",
    "class Account(Customer):\n",
    "    def __init__(self,name,id,account_no,type_of_account,balance):\n",
    "        super().__init__(name,id,account_no)\n",
    "        self.type = type_of_account\n",
    "        self.balance = balance\n",
    "    def check_balance(self):\n",
    "        return self.balance\n",
    "    def deposit(self):\n",
    "        while True:\n",
    "            try :\n",
    "                amount = int(input('Enter the amount to deposit : '))\n",
    "                if amount <0 :\n",
    "                    print('try again')\n",
    "                else:\n",
    "                    self.balance +=amount\n",
    "                    print(self.balance)\n",
    "                    break\n",
    "            except ValueError :\n",
    "                print('try again')\n",
    "\n",
    "                \n",
    "    def withdraw(self):\n",
    "        while True:\n",
    "            try :\n",
    "                amount = int(input('Enter the amount to withdraw : '))\n",
    "                if self.balance - amount >= 0:\n",
    "                    self.balance = self.balance - amount\n",
    "                    print(self.check_balance())\n",
    "                    break\n",
    "                \n",
    "            except ValueError:\n",
    "                print('try Again')\n",
    "ACC = Account('rahman',221,3452897492,'basic',100000)\n",
    "                "
   ]
  },
  {
   "cell_type": "code",
   "execution_count": 108,
   "id": "a42cf8a7",
   "metadata": {},
   "outputs": [
    {
     "name": "stdout",
     "output_type": "stream",
     "text": [
      "Enter the amount to deposit : 12\n",
      "100012\n",
      "Enter the amount to withdraw : 12\n",
      "100000\n"
     ]
    },
    {
     "data": {
      "text/plain": [
       "100000"
      ]
     },
     "execution_count": 108,
     "metadata": {},
     "output_type": "execute_result"
    }
   ],
   "source": [
    "ACC.deposit()\n",
    "ACC.withdraw()\n",
    "ACC.check_balance()"
   ]
  },
  {
   "cell_type": "markdown",
   "id": "d55bf2f6",
   "metadata": {},
   "source": [
    "### P3"
   ]
  },
  {
   "cell_type": "markdown",
   "id": "db338c5d",
   "metadata": {},
   "source": [
    "    Write a python class that is initiated with a date and displays the date if the date entered is valid \n"
   ]
  },
  {
   "cell_type": "code",
   "execution_count": 86,
   "id": "281e5859",
   "metadata": {},
   "outputs": [
    {
     "name": "stdout",
     "output_type": "stream",
     "text": [
      "Enter Date, Month and Year in the following format dd.mm.yy : 12.12.12\n",
      "invalid\n"
     ]
    }
   ],
   "source": [
    "import datetime\n",
    "class Date:\n",
    "    def __init__(self,d,m,y):\n",
    "        self.dd = d\n",
    "        self.mm = m\n",
    "        self.yy = y\n",
    "        self.__checkDate()\n",
    "    def __checkDate(self):\n",
    "        d = datetime.datetime.now().day\n",
    "        m = datetime.datetime.now().month\n",
    "        y = datetime.datetime.now().year\n",
    "        if  d == self.dd and m == self.mm and y == self.yy:\n",
    "            print('valid')\n",
    "        else:\n",
    "            print('invalid')\n",
    "\n",
    "try :\n",
    "    date = input('Enter Date, Month and Year in the following format dd.mm.yy : ')\n",
    "    dd = int(date.split('.')[0])\n",
    "    mm = int(date.split('.')[1])\n",
    "    yy = int(date.split('.')[2])\n",
    "    \n",
    "except :\n",
    "    print('Date entered in incorrect format',date)\n",
    "d = Date(dd,mm,yy)"
   ]
  },
  {
   "cell_type": "code",
   "execution_count": null,
   "id": "9ca9be26",
   "metadata": {},
   "outputs": [],
   "source": []
  },
  {
   "cell_type": "code",
   "execution_count": null,
   "id": "b7b2cf93",
   "metadata": {},
   "outputs": [],
   "source": []
  }
 ],
 "metadata": {
  "kernelspec": {
   "display_name": "Python 3 (ipykernel)",
   "language": "python",
   "name": "python3"
  },
  "language_info": {
   "codemirror_mode": {
    "name": "ipython",
    "version": 3
   },
   "file_extension": ".py",
   "mimetype": "text/x-python",
   "name": "python",
   "nbconvert_exporter": "python",
   "pygments_lexer": "ipython3",
   "version": "3.9.2"
  }
 },
 "nbformat": 4,
 "nbformat_minor": 5
}
